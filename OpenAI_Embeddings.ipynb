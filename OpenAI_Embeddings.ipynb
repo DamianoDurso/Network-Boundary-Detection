{
 "cells": [
  {
   "cell_type": "code",
   "execution_count": 6,
   "id": "600b83da-7d76-4a29-8080-9f11f07bb164",
   "metadata": {},
   "outputs": [],
   "source": [
    "# Import\n",
    "import pandas as pd\n",
    "import numpy as np\n",
    "from openai import OpenAI\n",
    "from sklearn.metrics.pairwise import cosine_similarity"
   ]
  },
  {
   "cell_type": "code",
   "execution_count": 7,
   "id": "38f65def-2664-44cf-a2c4-54869a87900a",
   "metadata": {},
   "outputs": [],
   "source": [
    "# Helpers\n",
    "def load_text_from_file(file_path):\n",
    "    with open(file_path, 'r', encoding='utf-8') as file:\n",
    "        text = file.read()\n",
    "    return text"
   ]
  },
  {
   "cell_type": "code",
   "execution_count": 8,
   "id": "7f390523-fd07-4bdf-a0b0-64d20d7e60a7",
   "metadata": {},
   "outputs": [],
   "source": [
    "# Get DASS-21 questions\n",
    "df_items = pd.read_csv('./Data/dass_21_items_text.csv')\n",
    "#df_items.head()"
   ]
  },
  {
   "cell_type": "code",
   "execution_count": 10,
   "id": "536df456-8bd3-4269-87da-9b482f8be5c0",
   "metadata": {},
   "outputs": [],
   "source": [
    "# Set up your OpenAI API key\n",
    "file_path = '/Users/jona/Library/CloudStorage/Dropbox/MyData/_Postdoc/AI_Learning/Ollama_Python/api_key.txt'  # Replace with the path to your .txt file\n",
    "text_string = load_text_from_file(file_path)\n",
    "client = OpenAI(api_key=text_string)"
   ]
  },
  {
   "cell_type": "code",
   "execution_count": 11,
   "id": "021ea1f8-8e91-4511-8016-e6a080311a72",
   "metadata": {},
   "outputs": [
    {
     "name": "stdout",
     "output_type": "stream",
     "text": [
      "0     Couldn't seem to experience any positive feeli...\n",
      "1     Found it difficult to work up the initiative t...\n",
      "2            Felt that I had nothing to look forward to\n",
      "3                            Felt down-hearted and blue\n",
      "4          Unable to become enthusiastic about anything\n",
      "5                  Felt I wasn't worth much as a person\n",
      "6                        Felt that life was meaningless\n",
      "7                          Aware of dryness of my mouth\n",
      "8     Experienced breathing difficulty (e.g., excess...\n",
      "9            Experienced trembling (e.g., in the hands)\n",
      "10    Worried about situations in which I might pani...\n",
      "11                            Felt I was close to panic\n",
      "12    Aware of the action of my heart in the absence...\n",
      "13                  Felt scared without any good reason\n",
      "14                           Found it hard to wind down\n",
      "15                   Tended to over-react to situations\n",
      "16        Felt that I was using a lot of nervous energy\n",
      "17                        Found myself getting agitated\n",
      "18                          Found it difficult to relax\n",
      "19    Intolerant of anything that kept me from getti...\n",
      "20                        Felt that I was rather touchy\n",
      "Name: Item_simp, dtype: object\n"
     ]
    }
   ],
   "source": [
    "# Get one sentence\n",
    "type(df_items)\n",
    "text = df_items.iloc[:,3] # as an example\n",
    "print(text)"
   ]
  },
  {
   "cell_type": "code",
   "execution_count": 12,
   "id": "9be0cb72-c8a0-4ef9-ac21-9d4210e1e3c9",
   "metadata": {},
   "outputs": [],
   "source": [
    "# Function to get the embedding for a given text string\n",
    "\n",
    "def get_embedding(text, model=\"text-embedding-3-small\"):\n",
    "   text = text.replace(\"\\n\", \" \")\n",
    "   return client.embeddings.create(input = [text], model=model).data[0].embedding\n"
   ]
  },
  {
   "cell_type": "code",
   "execution_count": 13,
   "id": "38809da7-b050-4b67-a33a-5f412802b96b",
   "metadata": {},
   "outputs": [
    {
     "data": {
      "text/plain": [
       "21"
      ]
     },
     "execution_count": 13,
     "metadata": {},
     "output_type": "execute_result"
    }
   ],
   "source": [
    "len(text)"
   ]
  },
  {
   "cell_type": "code",
   "execution_count": 14,
   "id": "999451b2-5f63-4b11-94be-80451b2dea93",
   "metadata": {},
   "outputs": [],
   "source": [
    "embedding_vector = []"
   ]
  },
  {
   "cell_type": "code",
   "execution_count": 15,
   "id": "4db21876-59aa-4695-973d-9a89b702f4a0",
   "metadata": {},
   "outputs": [
    {
     "name": "stdout",
     "output_type": "stream",
     "text": [
      "0\n",
      "1\n",
      "2\n",
      "3\n",
      "4\n",
      "5\n",
      "6\n",
      "7\n",
      "8\n",
      "9\n",
      "10\n",
      "11\n",
      "12\n",
      "13\n",
      "14\n",
      "15\n",
      "16\n",
      "17\n",
      "18\n",
      "19\n",
      "20\n"
     ]
    }
   ],
   "source": [
    "# Example usage\n",
    "for i in range(0,21):\n",
    "    embedding_i = get_embedding(text[i])\n",
    "    embedding_vector.append(embedding_i)"
   ]
  },
  {
   "cell_type": "code",
   "execution_count": 16,
   "id": "a697242c-4e51-4b4f-806d-e3525f377281",
   "metadata": {},
   "outputs": [
    {
     "data": {
      "text/plain": [
       "(1536, 21)"
      ]
     },
     "execution_count": 16,
     "metadata": {},
     "output_type": "execute_result"
    }
   ],
   "source": [
    "# To dataframe and save\n",
    "df_embed = pd.DataFrame(embedding_vector).T\n",
    "df_embed.to_csv('Files/text-embedding-3-small.csv', index=False)\n",
    "\n",
    "df_embed.shape"
   ]
  },
  {
   "cell_type": "code",
   "execution_count": 17,
   "id": "b06b5b42-a328-47db-a69a-5f72cbc1a29e",
   "metadata": {},
   "outputs": [],
   "source": [
    "# Function to Compute Cosine Similarity matrix\n",
    "# Example function to compute cosine similarity matrix\n",
    "def compute_cosine_similarity(df):\n",
    "    # Compute the cosine similarity between rows (N dimensions)\n",
    "    similarity_matrix = cosine_similarity(df)\n",
    "    \n",
    "    # Convert the result to a DataFrame for readability\n",
    "    similarity_df = pd.DataFrame(similarity_matrix, index=df.index, columns=df.index)\n",
    "    \n",
    "    return similarity_df\n"
   ]
  },
  {
   "cell_type": "code",
   "execution_count": 23,
   "id": "eb8a3450-537f-477c-90d0-509fcfa50f54",
   "metadata": {},
   "outputs": [
    {
     "data": {
      "text/plain": [
       "(np.float64(0.500341514962459), np.float64(0.500341514962459))"
      ]
     },
     "execution_count": 23,
     "metadata": {},
     "output_type": "execute_result"
    }
   ],
   "source": [
    "cosine_sim_matrix = compute_cosine_similarity(df_embed.T)\n",
    "\n",
    "cosine_sim_matrix.shape\n",
    "\n",
    "type(cosine_sim_matrix)\n",
    "cosine_sim_matrix.iloc[2,1], cosine_sim_matrix.iloc[1,2]\n",
    "\n",
    "# Display the cosine similarity matrix\n",
    "#print(cosine_sim_matrix)\n"
   ]
  },
  {
   "cell_type": "code",
   "execution_count": 24,
   "id": "584fcec2-7416-49de-bbd3-625deacaea19",
   "metadata": {},
   "outputs": [],
   "source": [
    "# Save\n",
    "cosine_sim_matrix.to_csv('Data/cos_matrices/text-embedding-3-small.csv', index=False)\n",
    "\n",
    "\n"
   ]
  },
  {
   "cell_type": "code",
   "execution_count": 25,
   "id": "a5e43b33-aa4e-4ab0-828c-b032bc9abfde",
   "metadata": {},
   "outputs": [
    {
     "name": "stdout",
     "output_type": "stream",
     "text": [
      "0\n",
      "1\n",
      "2\n",
      "3\n",
      "4\n",
      "5\n",
      "6\n",
      "7\n",
      "8\n",
      "9\n",
      "10\n",
      "11\n",
      "12\n",
      "13\n",
      "14\n",
      "15\n",
      "16\n",
      "17\n",
      "18\n",
      "19\n",
      "20\n",
      "(21, 21)\n"
     ]
    }
   ],
   "source": [
    "# Do the same pipeline for \"text-embedding-3-large\"\n",
    "# Example usage\n",
    "embedding_vector_large = []\n",
    "for i in range(0,21):\n",
    "    embedding_i = get_embedding(text[i], model=\"text-embedding-3-large\")\n",
    "    embedding_vector_large.append(embedding_i)\n",
    "    print(i)\n",
    "\n",
    "# To dataframe and save\n",
    "df_embed_large = pd.DataFrame(embedding_vector_large).T\n",
    "df_embed_large.to_csv('Files/text-embedding-3-large.csv', index=False)\n",
    "\n",
    "# Cosine Similarity\n",
    "cosine_sim_matrix_large = compute_cosine_similarity(df_embed_large.T)\n",
    "print(cosine_sim_matrix_large.shape)\n",
    "\n",
    "# Save Cosine similarity Matrix\n",
    "cosine_sim_matrix_large.to_csv('Data/cos_matrices/text-embedding-3-large.csv', index=False)\n"
   ]
  }
 ],
 "metadata": {
  "kernelspec": {
   "display_name": "Python 3 (ipykernel)",
   "language": "python",
   "name": "python3"
  },
  "language_info": {
   "codemirror_mode": {
    "name": "ipython",
    "version": 3
   },
   "file_extension": ".py",
   "mimetype": "text/x-python",
   "name": "python",
   "nbconvert_exporter": "python",
   "pygments_lexer": "ipython3",
   "version": "3.9.6"
  }
 },
 "nbformat": 4,
 "nbformat_minor": 5
}
