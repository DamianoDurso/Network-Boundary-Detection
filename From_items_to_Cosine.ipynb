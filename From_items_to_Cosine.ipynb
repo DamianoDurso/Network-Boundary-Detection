{
 "cells": [
  {
   "cell_type": "code",
   "execution_count": 19,
   "metadata": {},
   "outputs": [],
   "source": [
    "import pandas as pd \n",
    "import numpy as np"
   ]
  },
  {
   "cell_type": "code",
   "execution_count": 26,
   "metadata": {},
   "outputs": [
    {
     "name": "stdout",
     "output_type": "stream",
     "text": [
      "Category: Clinical\n",
      "Test: PhQ-9 - Data Shape: (0, 0)\n",
      "Test: DASS21 - Data Shape: (21, 3)\n",
      "Test: DTDD - Data Shape: (0, 0)\n",
      "Test: NPI - Data Shape: (0, 0)\n",
      "Category: Social\n",
      "Test: RSE - Data Shape: (0, 0)\n",
      "Test: RWA - Data Shape: (0, 0)\n",
      "Test: IRI index - Data Shape: (0, 0)\n",
      "Category: Personality\n",
      "Test: BIG 5 - Data Shape: (0, 0)\n",
      "Test: HEXACO - Data Shape: (0, 0)\n",
      "Test: NEO-PI - Data Shape: (0, 0)\n"
     ]
    }
   ],
   "source": [
    "import json\n",
    "import pandas as pd\n",
    "\n",
    "# Load JSON\n",
    "with open('./Item_data/items.json', 'r') as f:\n",
    "    data = json.load(f)\n",
    "\n",
    "# Loop through all elements of the JSON\n",
    "for category, tests in data.items():\n",
    "    print(f\"Category: {category}\")\n",
    "    \n",
    "    for test_name, test_data in tests.items():\n",
    "        df = pd.DataFrame(test_data[\"dataframe\"])  # Convert items to DataFrame\n",
    "        print(f\"Test: {test_name} - Data Shape: {df.shape}\")\n",
    "\n",
    "        # Example analysis: Checking for missing values\n",
    "#        print(df.isnull().sum())\n",
    "\n",
    "        # You can perform further analyses here...\n"
   ]
  }
 ],
 "metadata": {
  "kernelspec": {
   "display_name": "Python 3",
   "language": "python",
   "name": "python3"
  },
  "language_info": {
   "codemirror_mode": {
    "name": "ipython",
    "version": 3
   },
   "file_extension": ".py",
   "mimetype": "text/x-python",
   "name": "python",
   "nbconvert_exporter": "python",
   "pygments_lexer": "ipython3",
   "version": "3.11.4"
  },
  "orig_nbformat": 4
 },
 "nbformat": 4,
 "nbformat_minor": 2
}
