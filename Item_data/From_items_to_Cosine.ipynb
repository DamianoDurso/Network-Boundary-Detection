{
 "cells": [
  {
   "cell_type": "code",
   "execution_count": 1,
   "metadata": {},
   "outputs": [
    {
     "name": "stderr",
     "output_type": "stream",
     "text": [
      "/Library/Frameworks/Python.framework/Versions/3.11/lib/python3.11/site-packages/sentence_transformers/cross_encoder/CrossEncoder.py:13: TqdmExperimentalWarning: Using `tqdm.autonotebook.tqdm` in notebook mode. Use `tqdm.tqdm` instead to force console mode (e.g. in jupyter console)\n",
      "  from tqdm.autonotebook import tqdm, trange\n"
     ]
    }
   ],
   "source": [
    "import pandas as pd \n",
    "import numpy as np\n",
    "from Item_to_cosine import PsychologicalTestAnalyzer"
   ]
  },
  {
   "cell_type": "markdown",
   "metadata": {},
   "source": [
    "# TO DO:\n",
    "- add identifier to item (e.g. 'dass21_dep_1')\n",
    "- add all data for the scales\n",
    "- output in a final json file with all processed data"
   ]
  },
  {
   "cell_type": "markdown",
   "metadata": {},
   "source": [
    "# Analysis"
   ]
  },
  {
   "cell_type": "code",
   "execution_count": 2,
   "metadata": {},
   "outputs": [
    {
     "name": "stdout",
     "output_type": "stream",
     "text": [
      "Category: Clinical\n",
      "Test: PhQ-9 - Data Shape: (0, 0)\n",
      "Test: DASS21 - Data Shape: (21, 5)\n",
      "Test: DTDD - Data Shape: (27, 5)\n",
      "Test: NPI - Data Shape: (0, 0)\n",
      "Category: Social\n",
      "Test: RSE - Data Shape: (10, 5)\n",
      "Test: RWA - Data Shape: (22, 5)\n",
      "Test: IRI index - Data Shape: (28, 5)\n",
      "Category: Personality\n",
      "Test: BIG 5 - Data Shape: (50, 5)\n",
      "Test: HEXACO - Data Shape: (240, 5)\n",
      "Test: NEO-PI - Data Shape: (0, 0)\n"
     ]
    }
   ],
   "source": [
    "import json\n",
    "import pandas as pd\n",
    "\n",
    "# Load JSON\n",
    "with open('./items_with_ids.json', 'r') as f:\n",
    "    data = json.load(f)\n",
    "\n",
    "# Loop through all elements of the JSON\n",
    "for category, tests in data.items():\n",
    "    print(f\"Category: {category}\")\n",
    "    \n",
    "    for test_name, test_data in tests.items():\n",
    "        df = pd.DataFrame(test_data[\"dataframe\"])  # Convert items to DataFrame\n",
    "        print(f\"Test: {test_name} - Data Shape: {df.shape}\")\n",
    "\n",
    "        # Example analysis: adding PsychologicalTestAnalyzer (as below) once we have more data\n",
    "#        print(df.isnull().sum())\n",
    "\n",
    "        # Save results per scale?\n"
   ]
  },
  {
   "cell_type": "code",
   "execution_count": 3,
   "metadata": {},
   "outputs": [
    {
     "name": "stderr",
     "output_type": "stream",
     "text": [
      "/Library/Frameworks/Python.framework/Versions/3.11/lib/python3.11/site-packages/transformers/tokenization_utils_base.py:1617: FutureWarning: `clean_up_tokenization_spaces` was not set. It will be set to `True` by default. This behavior will be deprecated in transformers v4.45, and will be then set to `False` by default. For more details check this issue: https://github.com/huggingface/transformers/issues/31884\n",
      "  warnings.warn(\n"
     ]
    },
    {
     "name": "stdout",
     "output_type": "stream",
     "text": [
      "Processing: DASS21\n"
     ]
    },
    {
     "name": "stderr",
     "output_type": "stream",
     "text": [
      "/Library/Frameworks/Python.framework/Versions/3.11/lib/python3.11/site-packages/sentence_transformers/util.py:44: UserWarning: Creating a tensor from a list of numpy.ndarrays is extremely slow. Please consider converting the list to a single numpy.ndarray with numpy.array() before converting to a tensor. (Triggered internally at /Users/runner/work/pytorch/pytorch/pytorch/torch/csrc/utils/tensor_new.cpp:264.)\n",
      "  a = torch.tensor(a)\n"
     ]
    },
    {
     "name": "stdout",
     "output_type": "stream",
     "text": [
      "Processing: DTDD\n"
     ]
    }
   ],
   "source": [
    "# Define models and their short names \n",
    "models = ['nli-distilroberta-base-v2', 'all-mpnet-base-v2', 'sentence-transformers/all-MiniLM-L6-v2', 'intfloat/e5-large-v2', 'LaBSE'] \n",
    "model_short = ['distilroberta', 'mpnet', 'miniLM', 'e5', 'labse'] \n",
    "\n",
    "# Create an instance of the analyzer \n",
    "analyzer = PsychologicalTestAnalyzer(models, model_short) \n",
    "\n",
    "# Example psychological test datasets (replace with actual DataFrames) \n",
    "test_dataframes = { \"DASS21\": pd.DataFrame(data['Clinical']['DASS21']['dataframe']),\n",
    "                    \"DTDD\": pd.DataFrame(data['Clinical']['DTDD']['dataframe']),\n",
    "                    } \n",
    "\n",
    "# Run the full analysis \n",
    "out = analyzer.analyze_tests(test_dataframes)"
   ]
  }
 ],
 "metadata": {
  "kernelspec": {
   "display_name": "Python 3",
   "language": "python",
   "name": "python3"
  },
  "language_info": {
   "codemirror_mode": {
    "name": "ipython",
    "version": 3
   },
   "file_extension": ".py",
   "mimetype": "text/x-python",
   "name": "python",
   "nbconvert_exporter": "python",
   "pygments_lexer": "ipython3",
   "version": "3.11.4"
  },
  "orig_nbformat": 4
 },
 "nbformat": 4,
 "nbformat_minor": 2
}
