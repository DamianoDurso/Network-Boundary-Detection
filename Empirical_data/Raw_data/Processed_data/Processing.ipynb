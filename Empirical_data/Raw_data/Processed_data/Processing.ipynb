{
 "cells": [
  {
   "cell_type": "markdown",
   "metadata": {},
   "source": [
    "# Pre-processing script\n",
    "    - Load data sets\n",
    "    - Do data-quality checks\n",
    "    - Subset relevant columns\n",
    "    - Assign column names in line with items id \n",
    "    - Save .RDS in \"Processed_data\" folder\n",
    "    - Assign unique dataset identifier   "
   ]
  }
 ],
 "metadata": {
  "language_info": {
   "name": "python"
  },
  "orig_nbformat": 4
 },
 "nbformat": 4,
 "nbformat_minor": 2
}
